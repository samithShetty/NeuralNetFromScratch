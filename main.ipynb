{
 "cells": [
  {
   "cell_type": "code",
   "execution_count": 1,
   "metadata": {},
   "outputs": [],
   "source": [
    "import pandas as pd\n",
    "import numpy as np"
   ]
  },
  {
   "cell_type": "markdown",
   "metadata": {},
   "source": [
    "## **Step 1**: Grab and split the data\n",
    "Here we fetch our training data (*retrieved from [here](https://www.kaggle.com/competitions/digit-recognizer/data)*) and break it down into:\n",
    "- Features (`X`) - This is all of the inputs for our model. In this case, it's all 784 values of each pixel in the image from 0 (black) to 255 (white)\n",
    "- Labels (`Y`) - This is the output/classification that we should get for each datapoint. In this case, it's the actual number that each image represents (*i.e. 0-9*)\n",
    "\n",
    "Additionally we break off a piece of the overall training data for the **Validation Set**\n",
    "> This validation set is not directly trained on like the rest of the training data, but is used to test how well the model responds to data it hasn't seen before. This helps prevent overfitting to the training data.\n",
    "\n",
    "We are now have divided our training data into 4 pieces:\n",
    "- Training Features (`X_train`)\n",
    "- Training Labels (`Y_train`)\n",
    "- Validation Features (`X_valid`)\n",
    "- Validation Labels (`Y_valid`)"
   ]
  },
  {
   "cell_type": "code",
   "execution_count": 2,
   "metadata": {},
   "outputs": [],
   "source": [
    "data = pd.read_csv('datasets/train.csv').values\n",
    "M, n = data.shape\n",
    "\n",
    "# 80-20 Split for training/validation sets\n",
    "train_split = 0.2   \n",
    "split_index = int(M*train_split)\n",
    "\n",
    "data_train = data[split_index:].T\n",
    "Y_train = data_train[0]\n",
    "X_train = data_train[1:]\n",
    "\n",
    "data_valid = data[:split_index].T\n",
    "Y_valid = data_valid[0]\n",
    "X_valid = data_valid[1:]"
   ]
  }
 ],
 "metadata": {
  "kernelspec": {
   "display_name": "venv",
   "language": "python",
   "name": "python3"
  },
  "language_info": {
   "codemirror_mode": {
    "name": "ipython",
    "version": 3
   },
   "file_extension": ".py",
   "mimetype": "text/x-python",
   "name": "python",
   "nbconvert_exporter": "python",
   "pygments_lexer": "ipython3",
   "version": "3.12.0"
  }
 },
 "nbformat": 4,
 "nbformat_minor": 2
}
